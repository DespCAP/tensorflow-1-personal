{
 "cells": [
  {
   "cell_type": "markdown",
   "metadata": {},
   "source": [
    "<a href=\"https://colab.research.google.com/github/https-deeplearning-ai/tensorflow-1-public/blob/master/C1/W3/ungraded_labs/C1_W3_Lab_1_improving_accuracy_using_convolutions.ipynb\" target=\"_parent\"><img src=\"https://colab.research.google.com/assets/colab-badge.svg\" alt=\"Open In Colab\"/></a>"
   ]
  },
  {
   "cell_type": "markdown",
   "metadata": {
    "id": "R6gHiH-I7uFa"
   },
   "source": [
    "# Ungraded Lab: Improving Computer Vision Accuracy using Convolutions\n",
    "\n",
    "\n",
    "\n"
   ]
  },
  {
   "cell_type": "markdown",
   "metadata": {
    "id": "Z6396DKnr-xp"
   },
   "source": [
    "# Shallow Neural Network\n",
    "\n",
    "In the previous lessons, you saw how to do fashion recognition using a neural network containing three layers -- the input layer (in the shape of the data), the output layer (in the shape of the desired output) and only one hidden layer. You experimented with the impact of different sizes of hidden layer, number of training epochs etc on the final accuracy. For convenience, here's the entire code again. Run it and take a note of the test accuracy that is printed out at the end. "
   ]
  },
  {
   "cell_type": "code",
   "execution_count": 15,
   "metadata": {
    "id": "qnCNAG-VecJ9"
   },
   "outputs": [],
   "source": [
    "import tensorflow as tf\n",
    "\n",
    "# Load the Fashion MNIST dataset\n",
    "fmnist = tf.keras.datasets.fashion_mnist\n",
    "(training_images, training_labels), (test_images, test_labels) = fmnist.load_data()\n",
    "\n",
    "# Normalize the pixel values\n",
    "training_images = training_images / 255.0\n",
    "test_images = test_images / 255.0"
   ]
  },
  {
   "cell_type": "code",
   "execution_count": 16,
   "metadata": {
    "id": "xcsRtq9OLorS"
   },
   "outputs": [
    {
     "name": "stdout",
     "output_type": "stream",
     "text": [
      "\n",
      "MODEL TRAINING:\n",
      "Epoch 1/5\n",
      "\u001b[1m1875/1875\u001b[0m \u001b[32m━━━━━━━━━━━━━━━━━━━━\u001b[0m\u001b[37m\u001b[0m \u001b[1m10s\u001b[0m 4ms/step - accuracy: 0.7781 - loss: 0.6309\n",
      "Epoch 2/5\n",
      "\u001b[1m1875/1875\u001b[0m \u001b[32m━━━━━━━━━━━━━━━━━━━━\u001b[0m\u001b[37m\u001b[0m \u001b[1m7s\u001b[0m 4ms/step - accuracy: 0.8642 - loss: 0.3746\n",
      "Epoch 3/5\n",
      "\u001b[1m1875/1875\u001b[0m \u001b[32m━━━━━━━━━━━━━━━━━━━━\u001b[0m\u001b[37m\u001b[0m \u001b[1m7s\u001b[0m 4ms/step - accuracy: 0.8765 - loss: 0.3369\n",
      "Epoch 4/5\n",
      "\u001b[1m1875/1875\u001b[0m \u001b[32m━━━━━━━━━━━━━━━━━━━━\u001b[0m\u001b[37m\u001b[0m \u001b[1m8s\u001b[0m 4ms/step - accuracy: 0.8837 - loss: 0.3123\n",
      "Epoch 5/5\n",
      "\u001b[1m1875/1875\u001b[0m \u001b[32m━━━━━━━━━━━━━━━━━━━━\u001b[0m\u001b[37m\u001b[0m \u001b[1m7s\u001b[0m 4ms/step - accuracy: 0.8914 - loss: 0.2914\n",
      "\n",
      "MODEL EVALUATION:\n",
      "\u001b[1m313/313\u001b[0m \u001b[32m━━━━━━━━━━━━━━━━━━━━\u001b[0m\u001b[37m\u001b[0m \u001b[1m1s\u001b[0m 3ms/step - accuracy: 0.8714 - loss: 0.3610\n"
     ]
    }
   ],
   "source": [
    "\n",
    "\n",
    "# Define the model\n",
    "model = tf.keras.models.Sequential([\n",
    "  tf.keras.layers.Flatten(),\n",
    "  tf.keras.layers.Dense(128, activation=tf.nn.relu),\n",
    "  tf.keras.layers.Dense(10, activation=tf.nn.softmax)\n",
    "])\n",
    "\n",
    "# Setup training parameters\n",
    "model.compile(optimizer='adam', loss='sparse_categorical_crossentropy', metrics=['accuracy'])\n",
    "\n",
    "# Train the model\n",
    "print(f'\\nMODEL TRAINING:')\n",
    "model.fit(training_images, training_labels, epochs=5)\n",
    "\n",
    "# Evaluate on the test set\n",
    "print(f'\\nMODEL EVALUATION:')\n",
    "test_loss = model.evaluate(test_images, test_labels)"
   ]
  },
  {
   "cell_type": "markdown",
   "metadata": {
    "id": "zldEXSsF8Noz"
   },
   "source": [
    "## Convolutional Neural Network\n",
    "\n",
    "In the model above, your accuracy will probably be about 89% on training and 87% on validation. Not bad. But how do you make that even better? One way is to use something called _convolutions_. We're not going into the details of convolutions in this notebook (please see resources in the classroom), but the ultimate concept is that they narrow down the content of the image to focus on specific parts and this will likely improve the model accuracy. \n",
    "\n",
    "If you've ever done image processing using a filter (like [this](https://en.wikipedia.org/wiki/Kernel_(image_processing))), then convolutions will look very familiar. In short, you take an array (usually 3x3 or 5x5) and scan it over the entire image. By changing the underlying pixels based on the formula within that matrix, you can do things like edge detection. So, for example, if you look at the above link, you'll see a 3x3 matrix that is defined for edge detection where the middle cell is 8, and all of its neighbors are -1. In this case, for each pixel, you would multiply its value by 8, then subtract the value of each neighbor. Do this for every pixel, and you'll end up with a new image that has the edges enhanced.\n",
    "\n",
    "This is perfect for computer vision because it often highlights features that distinguish one item from another. Moreover, the amount of information needed is then much less because you'll just train on the highlighted features.\n",
    "\n",
    "That's the concept of **Convolutional Neural Networks**. Add some layers to do convolution before you have the dense layers, and then the information going to the dense layers is more focused and possibly more accurate.\n",
    "\n",
    "Run the code below. This is the same neural network as earlier, but this time with [Convolution](https://www.tensorflow.org/api_docs/python/tf/keras/layers/Conv2D) and [MaxPooling](https://www.tensorflow.org/api_docs/python/tf/keras/layers/MaxPool2D) layers added first. It will take longer, but look at the impact on the accuracy."
   ]
  },
  {
   "cell_type": "code",
   "execution_count": 17,
   "metadata": {
    "id": "C0tFgT1MMKi6"
   },
   "outputs": [
    {
     "name": "stderr",
     "output_type": "stream",
     "text": [
      "c:\\Users\\amoya\\AppData\\Local\\Programs\\Python\\Python310\\lib\\site-packages\\keras\\src\\layers\\convolutional\\base_conv.py:107: UserWarning: Do not pass an `input_shape`/`input_dim` argument to a layer. When using Sequential models, prefer using an `Input(shape)` object as the first layer in the model instead.\n",
      "  super().__init__(activity_regularizer=activity_regularizer, **kwargs)\n"
     ]
    },
    {
     "data": {
      "text/html": [
       "<pre style=\"white-space:pre;overflow-x:auto;line-height:normal;font-family:Menlo,'DejaVu Sans Mono',consolas,'Courier New',monospace\"><span style=\"font-weight: bold\">Model: \"sequential_3\"</span>\n",
       "</pre>\n"
      ],
      "text/plain": [
       "\u001b[1mModel: \"sequential_3\"\u001b[0m\n"
      ]
     },
     "metadata": {},
     "output_type": "display_data"
    },
    {
     "data": {
      "text/html": [
       "<pre style=\"white-space:pre;overflow-x:auto;line-height:normal;font-family:Menlo,'DejaVu Sans Mono',consolas,'Courier New',monospace\">┏━━━━━━━━━━━━━━━━━━━━━━━━━━━━━━━━━┳━━━━━━━━━━━━━━━━━━━━━━━━┳━━━━━━━━━━━━━━━┓\n",
       "┃<span style=\"font-weight: bold\"> Layer (type)                    </span>┃<span style=\"font-weight: bold\"> Output Shape           </span>┃<span style=\"font-weight: bold\">       Param # </span>┃\n",
       "┡━━━━━━━━━━━━━━━━━━━━━━━━━━━━━━━━━╇━━━━━━━━━━━━━━━━━━━━━━━━╇━━━━━━━━━━━━━━━┩\n",
       "│ conv2d_2 (<span style=\"color: #0087ff; text-decoration-color: #0087ff\">Conv2D</span>)               │ (<span style=\"color: #00d7ff; text-decoration-color: #00d7ff\">None</span>, <span style=\"color: #00af00; text-decoration-color: #00af00\">26</span>, <span style=\"color: #00af00; text-decoration-color: #00af00\">26</span>, <span style=\"color: #00af00; text-decoration-color: #00af00\">32</span>)     │           <span style=\"color: #00af00; text-decoration-color: #00af00\">320</span> │\n",
       "├─────────────────────────────────┼────────────────────────┼───────────────┤\n",
       "│ max_pooling2d_2 (<span style=\"color: #0087ff; text-decoration-color: #0087ff\">MaxPooling2D</span>)  │ (<span style=\"color: #00d7ff; text-decoration-color: #00d7ff\">None</span>, <span style=\"color: #00af00; text-decoration-color: #00af00\">13</span>, <span style=\"color: #00af00; text-decoration-color: #00af00\">13</span>, <span style=\"color: #00af00; text-decoration-color: #00af00\">32</span>)     │             <span style=\"color: #00af00; text-decoration-color: #00af00\">0</span> │\n",
       "├─────────────────────────────────┼────────────────────────┼───────────────┤\n",
       "│ conv2d_3 (<span style=\"color: #0087ff; text-decoration-color: #0087ff\">Conv2D</span>)               │ (<span style=\"color: #00d7ff; text-decoration-color: #00d7ff\">None</span>, <span style=\"color: #00af00; text-decoration-color: #00af00\">11</span>, <span style=\"color: #00af00; text-decoration-color: #00af00\">11</span>, <span style=\"color: #00af00; text-decoration-color: #00af00\">32</span>)     │         <span style=\"color: #00af00; text-decoration-color: #00af00\">9,248</span> │\n",
       "├─────────────────────────────────┼────────────────────────┼───────────────┤\n",
       "│ max_pooling2d_3 (<span style=\"color: #0087ff; text-decoration-color: #0087ff\">MaxPooling2D</span>)  │ (<span style=\"color: #00d7ff; text-decoration-color: #00d7ff\">None</span>, <span style=\"color: #00af00; text-decoration-color: #00af00\">5</span>, <span style=\"color: #00af00; text-decoration-color: #00af00\">5</span>, <span style=\"color: #00af00; text-decoration-color: #00af00\">32</span>)       │             <span style=\"color: #00af00; text-decoration-color: #00af00\">0</span> │\n",
       "├─────────────────────────────────┼────────────────────────┼───────────────┤\n",
       "│ flatten_3 (<span style=\"color: #0087ff; text-decoration-color: #0087ff\">Flatten</span>)             │ (<span style=\"color: #00d7ff; text-decoration-color: #00d7ff\">None</span>, <span style=\"color: #00af00; text-decoration-color: #00af00\">800</span>)            │             <span style=\"color: #00af00; text-decoration-color: #00af00\">0</span> │\n",
       "├─────────────────────────────────┼────────────────────────┼───────────────┤\n",
       "│ dense_6 (<span style=\"color: #0087ff; text-decoration-color: #0087ff\">Dense</span>)                 │ (<span style=\"color: #00d7ff; text-decoration-color: #00d7ff\">None</span>, <span style=\"color: #00af00; text-decoration-color: #00af00\">128</span>)            │       <span style=\"color: #00af00; text-decoration-color: #00af00\">102,528</span> │\n",
       "├─────────────────────────────────┼────────────────────────┼───────────────┤\n",
       "│ dense_7 (<span style=\"color: #0087ff; text-decoration-color: #0087ff\">Dense</span>)                 │ (<span style=\"color: #00d7ff; text-decoration-color: #00d7ff\">None</span>, <span style=\"color: #00af00; text-decoration-color: #00af00\">10</span>)             │         <span style=\"color: #00af00; text-decoration-color: #00af00\">1,290</span> │\n",
       "└─────────────────────────────────┴────────────────────────┴───────────────┘\n",
       "</pre>\n"
      ],
      "text/plain": [
       "┏━━━━━━━━━━━━━━━━━━━━━━━━━━━━━━━━━┳━━━━━━━━━━━━━━━━━━━━━━━━┳━━━━━━━━━━━━━━━┓\n",
       "┃\u001b[1m \u001b[0m\u001b[1mLayer (type)                   \u001b[0m\u001b[1m \u001b[0m┃\u001b[1m \u001b[0m\u001b[1mOutput Shape          \u001b[0m\u001b[1m \u001b[0m┃\u001b[1m \u001b[0m\u001b[1m      Param #\u001b[0m\u001b[1m \u001b[0m┃\n",
       "┡━━━━━━━━━━━━━━━━━━━━━━━━━━━━━━━━━╇━━━━━━━━━━━━━━━━━━━━━━━━╇━━━━━━━━━━━━━━━┩\n",
       "│ conv2d_2 (\u001b[38;5;33mConv2D\u001b[0m)               │ (\u001b[38;5;45mNone\u001b[0m, \u001b[38;5;34m26\u001b[0m, \u001b[38;5;34m26\u001b[0m, \u001b[38;5;34m32\u001b[0m)     │           \u001b[38;5;34m320\u001b[0m │\n",
       "├─────────────────────────────────┼────────────────────────┼───────────────┤\n",
       "│ max_pooling2d_2 (\u001b[38;5;33mMaxPooling2D\u001b[0m)  │ (\u001b[38;5;45mNone\u001b[0m, \u001b[38;5;34m13\u001b[0m, \u001b[38;5;34m13\u001b[0m, \u001b[38;5;34m32\u001b[0m)     │             \u001b[38;5;34m0\u001b[0m │\n",
       "├─────────────────────────────────┼────────────────────────┼───────────────┤\n",
       "│ conv2d_3 (\u001b[38;5;33mConv2D\u001b[0m)               │ (\u001b[38;5;45mNone\u001b[0m, \u001b[38;5;34m11\u001b[0m, \u001b[38;5;34m11\u001b[0m, \u001b[38;5;34m32\u001b[0m)     │         \u001b[38;5;34m9,248\u001b[0m │\n",
       "├─────────────────────────────────┼────────────────────────┼───────────────┤\n",
       "│ max_pooling2d_3 (\u001b[38;5;33mMaxPooling2D\u001b[0m)  │ (\u001b[38;5;45mNone\u001b[0m, \u001b[38;5;34m5\u001b[0m, \u001b[38;5;34m5\u001b[0m, \u001b[38;5;34m32\u001b[0m)       │             \u001b[38;5;34m0\u001b[0m │\n",
       "├─────────────────────────────────┼────────────────────────┼───────────────┤\n",
       "│ flatten_3 (\u001b[38;5;33mFlatten\u001b[0m)             │ (\u001b[38;5;45mNone\u001b[0m, \u001b[38;5;34m800\u001b[0m)            │             \u001b[38;5;34m0\u001b[0m │\n",
       "├─────────────────────────────────┼────────────────────────┼───────────────┤\n",
       "│ dense_6 (\u001b[38;5;33mDense\u001b[0m)                 │ (\u001b[38;5;45mNone\u001b[0m, \u001b[38;5;34m128\u001b[0m)            │       \u001b[38;5;34m102,528\u001b[0m │\n",
       "├─────────────────────────────────┼────────────────────────┼───────────────┤\n",
       "│ dense_7 (\u001b[38;5;33mDense\u001b[0m)                 │ (\u001b[38;5;45mNone\u001b[0m, \u001b[38;5;34m10\u001b[0m)             │         \u001b[38;5;34m1,290\u001b[0m │\n",
       "└─────────────────────────────────┴────────────────────────┴───────────────┘\n"
      ]
     },
     "metadata": {},
     "output_type": "display_data"
    },
    {
     "data": {
      "text/html": [
       "<pre style=\"white-space:pre;overflow-x:auto;line-height:normal;font-family:Menlo,'DejaVu Sans Mono',consolas,'Courier New',monospace\"><span style=\"font-weight: bold\"> Total params: </span><span style=\"color: #00af00; text-decoration-color: #00af00\">113,386</span> (442.91 KB)\n",
       "</pre>\n"
      ],
      "text/plain": [
       "\u001b[1m Total params: \u001b[0m\u001b[38;5;34m113,386\u001b[0m (442.91 KB)\n"
      ]
     },
     "metadata": {},
     "output_type": "display_data"
    },
    {
     "data": {
      "text/html": [
       "<pre style=\"white-space:pre;overflow-x:auto;line-height:normal;font-family:Menlo,'DejaVu Sans Mono',consolas,'Courier New',monospace\"><span style=\"font-weight: bold\"> Trainable params: </span><span style=\"color: #00af00; text-decoration-color: #00af00\">113,386</span> (442.91 KB)\n",
       "</pre>\n"
      ],
      "text/plain": [
       "\u001b[1m Trainable params: \u001b[0m\u001b[38;5;34m113,386\u001b[0m (442.91 KB)\n"
      ]
     },
     "metadata": {},
     "output_type": "display_data"
    },
    {
     "data": {
      "text/html": [
       "<pre style=\"white-space:pre;overflow-x:auto;line-height:normal;font-family:Menlo,'DejaVu Sans Mono',consolas,'Courier New',monospace\"><span style=\"font-weight: bold\"> Non-trainable params: </span><span style=\"color: #00af00; text-decoration-color: #00af00\">0</span> (0.00 B)\n",
       "</pre>\n"
      ],
      "text/plain": [
       "\u001b[1m Non-trainable params: \u001b[0m\u001b[38;5;34m0\u001b[0m (0.00 B)\n"
      ]
     },
     "metadata": {},
     "output_type": "display_data"
    },
    {
     "name": "stdout",
     "output_type": "stream",
     "text": [
      "\n",
      "MODEL TRAINING:\n",
      "Epoch 1/5\n",
      "\u001b[1m1875/1875\u001b[0m \u001b[32m━━━━━━━━━━━━━━━━━━━━\u001b[0m\u001b[37m\u001b[0m \u001b[1m26s\u001b[0m 13ms/step - accuracy: 0.7647 - loss: 0.6595\n",
      "Epoch 2/5\n",
      "\u001b[1m1875/1875\u001b[0m \u001b[32m━━━━━━━━━━━━━━━━━━━━\u001b[0m\u001b[37m\u001b[0m \u001b[1m24s\u001b[0m 13ms/step - accuracy: 0.8789 - loss: 0.3326\n",
      "Epoch 3/5\n",
      "\u001b[1m1875/1875\u001b[0m \u001b[32m━━━━━━━━━━━━━━━━━━━━\u001b[0m\u001b[37m\u001b[0m \u001b[1m41s\u001b[0m 13ms/step - accuracy: 0.8998 - loss: 0.2743\n",
      "Epoch 4/5\n",
      "\u001b[1m1875/1875\u001b[0m \u001b[32m━━━━━━━━━━━━━━━━━━━━\u001b[0m\u001b[37m\u001b[0m \u001b[1m23s\u001b[0m 12ms/step - accuracy: 0.9107 - loss: 0.2387\n",
      "Epoch 5/5\n",
      "\u001b[1m1875/1875\u001b[0m \u001b[32m━━━━━━━━━━━━━━━━━━━━\u001b[0m\u001b[37m\u001b[0m \u001b[1m24s\u001b[0m 13ms/step - accuracy: 0.9172 - loss: 0.2222\n",
      "\n",
      "MODEL EVALUATION:\n",
      "\u001b[1m313/313\u001b[0m \u001b[32m━━━━━━━━━━━━━━━━━━━━\u001b[0m\u001b[37m\u001b[0m \u001b[1m2s\u001b[0m 7ms/step - accuracy: 0.8986 - loss: 0.2882\n"
     ]
    }
   ],
   "source": [
    "# Define the model\n",
    "model = tf.keras.models.Sequential([\n",
    "                                                         \n",
    "  # Add convolutions and max pooling\n",
    "  tf.keras.layers.Conv2D(32, (3,3), activation='relu', input_shape=(28, 28, 1)),\n",
    "  tf.keras.layers.MaxPooling2D(2, 2),\n",
    "  tf.keras.layers.Conv2D(32, (3,3), activation='relu'),\n",
    "  tf.keras.layers.MaxPooling2D(2,2),\n",
    "\n",
    "  # Add the same layers as before\n",
    "  tf.keras.layers.Flatten(),\n",
    "  tf.keras.layers.Dense(128, activation='relu'),\n",
    "  tf.keras.layers.Dense(10, activation='softmax')\n",
    "])\n",
    "\n",
    "# Print the model summary\n",
    "model.summary()\n",
    "\n",
    "# Use same settings\n",
    "model.compile(optimizer='adam', loss='sparse_categorical_crossentropy', metrics=['accuracy'])\n",
    "\n",
    "# Train the model\n",
    "print(f'\\nMODEL TRAINING:')\n",
    "model.fit(training_images, training_labels, epochs=5)\n",
    "\n",
    "# Evaluate on the test set\n",
    "print(f'\\nMODEL EVALUATION:')\n",
    "test_loss = model.evaluate(test_images, test_labels)\n"
   ]
  },
  {
   "cell_type": "markdown",
   "metadata": {
    "id": "uRLfZ0jt-fQI"
   },
   "source": [
    "It's likely gone up to about 92% on the training data and 90% on the validation data. That's significant, and a step in the right direction!\n",
    "\n",
    "Look at the code again, and see, step by step how the convolutions were built. Instead of the input layer at the top, you added a [Conv2D layer](https://www.tensorflow.org/api_docs/python/tf/keras/layers/Conv2D). The parameters are:\n",
    "\n",
    "1. The number of convolutions you want to generate. The value here is purely arbitrary but it's good to use powers of 2 starting from 32.\n",
    "2. The size of the Convolution. In this case, a 3x3 grid.\n",
    "3. The activation function to use. In this case, you used a ReLU, which you might recall is the equivalent of returning `x` when `x>0`, else return `0`.\n",
    "4. In the first layer, the shape of the input data.\n",
    "\n",
    "You'll follow the convolution with a [MaxPool2D](https://www.tensorflow.org/api_docs/python/tf/keras/layers/MaxPool2D) layer which is designed to compress the image, while maintaining the content of the features that were highlighted by the convolution. By specifying `(2,2)` for the MaxPooling, the effect is to quarter the size of the image. Without going into too much detail here, the idea is that it creates a 2x2 array of pixels, and picks the biggest one. Thus, it turns 4 pixels into 1. It repeats this across the image, and in doing so, it halves both the number of horizontal and vertical pixels, effectively reducing the image to 25% of the original image.\n",
    "\n",
    "You can call `model.summary()` to see the size and shape of the network, and you'll notice that after every max pooling layer, the image size is reduced in this way. \n",
    "\n",
    "\n",
    "```\n",
    "model = tf.keras.models.Sequential([\n",
    "  tf.keras.layers.Conv2D(32, (3,3), activation='relu', input_shape=(28, 28, 1)),\n",
    "  tf.keras.layers.MaxPooling2D(2, 2),\n",
    "```\n"
   ]
  },
  {
   "cell_type": "markdown",
   "metadata": {
    "id": "RMorM6daADjA"
   },
   "source": [
    "Then you added another convolution and flattened the output.\n",
    "\n",
    "\n",
    "\n",
    "```\n",
    "  tf.keras.layers.Conv2D(64, (3,3), activation='relu'),\n",
    "  tf.keras.layers.MaxPooling2D(2,2)\n",
    "  tf.keras.layers.Flatten(),\n",
    "  \n",
    "```\n"
   ]
  },
  {
   "cell_type": "markdown",
   "metadata": {
    "id": "qPtqR23uASjX"
   },
   "source": [
    "After this, you'll just have the same DNN structure as the non convolutional version. The same dense layer with 128 neurons, and output layer with 10 neurons as in the pre-convolution example:\n",
    "\n",
    "\n",
    "\n",
    "```\n",
    "  tf.keras.layers.Dense(128, activation='relu'),\n",
    "  tf.keras.layers.Dense(10, activation='softmax')\n",
    "])\n",
    "```\n"
   ]
  },
  {
   "cell_type": "markdown",
   "metadata": {
    "id": "Np6AjBlLYveu"
   },
   "source": [
    "## About overfitting\n",
    "\n",
    "Try running the training for more epochs -- say about 20, and explore the results. But while the results might seem really good, the validation results may actually go down, due to something called _overfitting_. In a nutshell, overfitting occurs when the network learns the data from the training set really well, but it's too specialised to only that data, and as a result is less effective at interpreting other unseen data. For example, if all your life you only saw red shoes, then when you see a red shoe you would be very good at identifying it. But blue suede shoes might confuse you... and you know you should never mess with my blue suede shoes."
   ]
  },
  {
   "cell_type": "markdown",
   "metadata": {
    "id": "IXx_LX3SAlFs"
   },
   "source": [
    "# Visualizing the Convolutions and Pooling\n",
    "\n",
    "Let's explore how to show the convolutions graphically. The cell below prints the first 100 labels in the test set, and you can see that the ones at index `0`, index `23` and index `28` are all the same value (i.e. `9`). They're all shoes. Let's take a look at the result of running the convolution on each, and you'll begin to see common features between them emerge. Now, when the dense layer is training on that data, it's working with a lot less, and it's perhaps finding a commonality between shoes based on this convolution/pooling combination."
   ]
  },
  {
   "cell_type": "code",
   "execution_count": 18,
   "metadata": {
    "id": "f-6nX4QsOku6"
   },
   "outputs": [
    {
     "name": "stdout",
     "output_type": "stream",
     "text": [
      "[9 2 1 1 6 1 4 6 5 7 4 5 7 3 4 1 2 4 8 0 2 5 7 9 1 4 6 0 9 3 8 8 3 3 8 0 7\n",
      " 5 7 9 6 1 3 7 6 7 2 1 2 2 4 4 5 8 2 2 8 4 8 0 7 7 8 5 1 1 2 3 9 8 7 0 2 6\n",
      " 2 3 1 2 8 4 1 8 5 9 5 0 3 2 0 6 5 3 6 7 1 8 0 1 4 2]\n"
     ]
    }
   ],
   "source": [
    "print(test_labels[:100])"
   ]
  },
  {
   "cell_type": "code",
   "execution_count": 20,
   "metadata": {},
   "outputs": [
    {
     "name": "stdout",
     "output_type": "stream",
     "text": [
      "\u001b[1m4/4\u001b[0m \u001b[32m━━━━━━━━━━━━━━━━━━━━\u001b[0m\u001b[37m\u001b[0m \u001b[1m0s\u001b[0m 49ms/step\n"
     ]
    },
    {
     "data": {
      "text/plain": [
       "array([[1.59258741e-06, 3.08305825e-09, 1.15896420e-07, 1.20010398e-07,\n",
       "        7.44082074e-10, 1.34813460e-03, 3.34682454e-06, 1.67983538e-03,\n",
       "        6.77851267e-06, 9.96960163e-01],\n",
       "       [1.15316270e-05, 9.43933820e-11, 9.99911666e-01, 5.72000722e-08,\n",
       "        4.99532289e-05, 3.76714875e-11, 2.67631149e-05, 4.29178719e-14,\n",
       "        7.08000147e-09, 6.83081092e-11],\n",
       "       [4.39897150e-07, 9.99999523e-01, 5.49888455e-08, 8.40247982e-10,\n",
       "        1.17118883e-08, 1.44737244e-09, 9.92088722e-09, 1.89346575e-14,\n",
       "        3.08192805e-10, 2.48399202e-13],\n",
       "       [3.56690720e-07, 9.99998569e-01, 2.48870951e-08, 2.71089906e-08,\n",
       "        2.14966889e-07, 3.01661629e-08, 8.49957644e-07, 8.10755543e-12,\n",
       "        9.62286154e-11, 1.11936042e-11],\n",
       "       [4.93180811e-01, 1.33249114e-06, 2.42894497e-02, 1.96256558e-03,\n",
       "        7.31247757e-03, 1.89990840e-06, 4.73227203e-01, 1.35025104e-07,\n",
       "        1.06398957e-05, 1.35491937e-05],\n",
       "       [1.08008828e-06, 9.99998569e-01, 8.24007174e-08, 2.49955334e-10,\n",
       "        8.70530954e-08, 7.16637361e-10, 5.82387045e-08, 5.00058924e-13,\n",
       "        9.45765564e-08, 1.63807965e-12],\n",
       "       [2.37748696e-04, 1.15458477e-06, 5.34196980e-02, 1.85232093e-05,\n",
       "        8.77179027e-01, 6.98871006e-08, 6.91424757e-02, 9.20427623e-10,\n",
       "        1.31647619e-06, 4.84517537e-09],\n",
       "       [4.00994322e-04, 1.54389477e-06, 2.81839329e-03, 6.49429043e-04,\n",
       "        1.15293235e-01, 1.46821401e-06, 8.80712330e-01, 1.03617353e-07,\n",
       "        1.16919684e-04, 5.54814142e-06],\n",
       "       [1.74574481e-04, 7.68522224e-09, 9.58432429e-06, 4.17880926e-07,\n",
       "        1.15328805e-06, 9.99266922e-01, 7.72320050e-07, 4.85417258e-04,\n",
       "        5.99844607e-05, 1.14112981e-06],\n",
       "       [5.38979702e-06, 6.77920742e-09, 7.84462543e-07, 7.94781272e-07,\n",
       "        8.65171558e-07, 2.40303241e-04, 5.83905369e-08, 9.99722183e-01,\n",
       "        2.37182644e-06, 2.72911348e-05],\n",
       "       [8.93032575e-06, 3.01644093e-07, 1.36656081e-03, 5.61658062e-08,\n",
       "        9.84184742e-01, 4.12455449e-07, 1.44388806e-02, 6.48901100e-10,\n",
       "        9.01560711e-08, 6.59370727e-08],\n",
       "       [3.16729769e-04, 1.22743586e-06, 1.98326525e-04, 1.09016821e-06,\n",
       "        2.63619677e-06, 9.89191711e-01, 5.73296784e-05, 5.07662407e-05,\n",
       "        1.01748602e-02, 5.25524320e-06],\n",
       "       [5.43461787e-03, 6.79321374e-07, 1.26928771e-05, 1.92459993e-04,\n",
       "        3.42582030e-06, 1.47655070e-01, 1.37089410e-05, 4.48766351e-02,\n",
       "        7.89931118e-01, 1.18796974e-02],\n",
       "       [8.60769593e-04, 1.39346899e-04, 8.62312936e-06, 9.98826563e-01,\n",
       "        3.82306598e-06, 9.66417429e-06, 1.35135793e-04, 3.76769123e-08,\n",
       "        2.28760337e-06, 1.37473144e-05],\n",
       "       [1.96391391e-03, 4.48570472e-06, 5.14243782e-01, 3.64384206e-04,\n",
       "        4.40710008e-01, 2.41175911e-07, 4.26271074e-02, 7.21559445e-07,\n",
       "        6.47618290e-05, 2.05892884e-05],\n",
       "       [8.83324719e-06, 9.99982715e-01, 6.84402721e-07, 6.85088366e-07,\n",
       "        3.09559391e-06, 4.22296921e-07, 3.42425278e-06, 1.00573561e-09,\n",
       "        3.16598125e-09, 5.28765964e-09],\n",
       "       [2.52207206e-03, 7.70367450e-08, 9.93245184e-01, 1.07336155e-05,\n",
       "        2.06029988e-04, 3.80333098e-08, 4.00849478e-03, 9.28820043e-09,\n",
       "        7.24032179e-06, 1.21449645e-07],\n",
       "       [5.49598481e-04, 1.69526018e-07, 7.48299658e-02, 1.05446241e-04,\n",
       "        8.42050850e-01, 3.03296446e-07, 8.15764144e-02, 2.71506750e-09,\n",
       "        8.86734924e-04, 5.15089880e-07],\n",
       "       [2.81938177e-04, 2.42656792e-08, 1.19547163e-04, 2.11349816e-05,\n",
       "        4.64428058e-06, 3.60640712e-07, 5.22921793e-04, 2.48415768e-06,\n",
       "        9.99042690e-01, 4.23436313e-06],\n",
       "       [9.91298616e-01, 2.70250244e-09, 1.10805163e-03, 8.72155033e-06,\n",
       "        6.22161849e-07, 3.01043301e-10, 7.58379558e-03, 3.77558158e-11,\n",
       "        1.43177033e-07, 6.17375706e-10],\n",
       "       [2.65619040e-01, 1.11691130e-04, 6.85821354e-01, 1.53929042e-03,\n",
       "        4.31951741e-03, 3.49708074e-07, 4.24103476e-02, 3.68617918e-07,\n",
       "        1.46588689e-04, 3.14662175e-05],\n",
       "       [7.63171411e-04, 1.24257966e-07, 1.55105299e-05, 6.73617205e-06,\n",
       "        5.24037569e-06, 7.09686875e-01, 4.86851741e-06, 1.87993094e-01,\n",
       "        1.18842744e-03, 1.00335918e-01],\n",
       "       [3.55594625e-06, 7.03661485e-09, 3.13435663e-07, 1.90854394e-07,\n",
       "        3.88020339e-07, 2.93657678e-04, 2.11086373e-07, 9.99393582e-01,\n",
       "        5.55116185e-06, 3.02474160e-04],\n",
       "       [7.08424182e-07, 1.09843844e-11, 1.15067294e-07, 3.08314774e-09,\n",
       "        3.29059169e-10, 9.99246955e-01, 3.80720833e-09, 1.86588295e-06,\n",
       "        3.42491803e-05, 7.16134324e-04],\n",
       "       [2.90408661e-06, 9.99994159e-01, 3.86274706e-07, 1.82449696e-07,\n",
       "        3.84116873e-07, 8.98271963e-08, 1.68350755e-06, 1.31356356e-10,\n",
       "        7.31315808e-08, 1.16951615e-10],\n",
       "       [4.05835593e-03, 6.21165918e-06, 4.84746665e-01, 9.53284980e-05,\n",
       "        3.26931328e-01, 5.85254611e-06, 1.84153840e-01, 6.32486774e-09,\n",
       "        1.87883177e-06, 4.50181432e-07],\n",
       "       [2.14260723e-03, 2.26940120e-08, 6.30647270e-03, 2.62345679e-06,\n",
       "        4.11813222e-02, 1.70627406e-08, 9.50366139e-01, 6.13602918e-11,\n",
       "        8.46370824e-07, 4.81602918e-08],\n",
       "       [8.25011075e-01, 1.27407126e-04, 1.96375232e-03, 3.15690110e-03,\n",
       "        1.18139897e-05, 1.90302345e-07, 1.69721797e-01, 3.34919044e-08,\n",
       "        6.64767003e-06, 3.60769633e-07],\n",
       "       [1.45839593e-07, 9.68850955e-09, 1.48827182e-08, 1.51652230e-07,\n",
       "        9.45252432e-10, 1.90909650e-05, 2.82048927e-06, 2.21795542e-03,\n",
       "        5.54537064e-06, 9.97754157e-01],\n",
       "       [3.11781596e-02, 3.33201897e-05, 2.58057490e-02, 6.59587622e-01,\n",
       "        3.75073254e-02, 2.09505538e-06, 2.39586234e-01, 7.29619351e-05,\n",
       "        6.18417002e-03, 4.22434023e-05],\n",
       "       [3.75114731e-11, 1.09895741e-12, 1.14337706e-10, 1.37966616e-09,\n",
       "        1.75723550e-11, 2.66474928e-12, 4.99385325e-11, 4.87010605e-13,\n",
       "        1.00000000e+00, 8.94329261e-13],\n",
       "       [5.44902832e-06, 1.02939254e-11, 6.28387227e-07, 3.53891124e-07,\n",
       "        2.48058485e-09, 1.11750342e-06, 5.99996497e-08, 7.20711224e-09,\n",
       "        9.99992371e-01, 4.34474748e-11],\n",
       "       [1.95121753e-03, 5.72210133e-01, 4.33171820e-03, 4.00186390e-01,\n",
       "        2.36464839e-04, 8.62702320e-04, 1.26535734e-02, 9.76597312e-06,\n",
       "        2.01370311e-03, 5.54442406e-03],\n",
       "       [6.01908863e-02, 9.14303382e-05, 1.26649451e-03, 7.84115374e-01,\n",
       "        6.25625066e-03, 4.69957467e-06, 1.45011052e-01, 2.19756148e-05,\n",
       "        3.02812387e-03, 1.36835679e-05],\n",
       "       [2.08354948e-04, 9.61659138e-12, 1.92556312e-04, 2.86730113e-07,\n",
       "        2.16203057e-06, 6.48570278e-07, 7.02120190e-07, 1.74935089e-09,\n",
       "        9.99595225e-01, 7.56563701e-11],\n",
       "       [9.88690317e-01, 3.99202627e-09, 1.23299265e-04, 7.37596247e-06,\n",
       "        3.25933274e-06, 1.30303812e-09, 1.11719770e-02, 7.58501428e-10,\n",
       "        3.65596884e-06, 1.26107578e-08],\n",
       "       [6.09904234e-08, 5.68178074e-11, 8.04740594e-08, 2.34990094e-09,\n",
       "        3.08189065e-08, 6.63550629e-04, 5.16669596e-10, 9.99324918e-01,\n",
       "        6.49983107e-08, 1.13167789e-05],\n",
       "       [4.14663373e-05, 6.48720766e-09, 5.14868191e-07, 2.56593921e-06,\n",
       "        1.45241529e-06, 9.96812165e-01, 3.73949820e-06, 3.08523490e-03,\n",
       "        3.20748331e-05, 2.08241745e-05],\n",
       "       [3.01307978e-07, 4.15901091e-10, 1.58315331e-07, 1.19445627e-08,\n",
       "        3.63405341e-08, 1.57449787e-04, 3.57850261e-09, 9.99434531e-01,\n",
       "        7.80196316e-08, 4.07414103e-04],\n",
       "       [8.66099281e-09, 3.90265043e-11, 5.63089186e-10, 5.06848474e-09,\n",
       "        2.93445684e-11, 1.41326518e-06, 3.03519734e-08, 3.78428376e-04,\n",
       "        5.12700922e-08, 9.99619961e-01],\n",
       "       [5.84639668e-01, 4.52660487e-08, 3.68667461e-05, 8.47891788e-05,\n",
       "        8.33158992e-05, 6.17981610e-10, 4.15149420e-01, 3.08693360e-09,\n",
       "        4.93384459e-06, 9.27112637e-07],\n",
       "       [3.21586617e-06, 9.99993801e-01, 8.42651787e-07, 3.99993411e-07,\n",
       "        5.99217685e-07, 5.53702819e-07, 6.02279329e-07, 9.89437698e-12,\n",
       "        4.29841194e-08, 3.21367738e-10],\n",
       "       [3.43408793e-01, 5.03792427e-04, 1.59517098e-02, 4.86235470e-02,\n",
       "        2.98819132e-03, 4.44783336e-06, 5.87945879e-01, 2.64775372e-06,\n",
       "        5.69666212e-04, 1.38182622e-06],\n",
       "       [9.91512570e-06, 2.54256644e-10, 1.06842742e-06, 9.44402075e-07,\n",
       "        7.23908471e-08, 5.92865836e-05, 1.07486439e-05, 7.54375458e-01,\n",
       "        1.00888201e-05, 2.45532408e-01],\n",
       "       [3.02482629e-03, 1.19469063e-04, 8.29946157e-03, 5.01541246e-04,\n",
       "        3.21588278e-01, 5.86674560e-07, 6.66350961e-01, 5.33901584e-06,\n",
       "        8.60580403e-05, 2.34415820e-05],\n",
       "       [1.45152853e-05, 6.76382106e-09, 4.01742454e-06, 1.60632703e-06,\n",
       "        2.14812900e-07, 8.37447442e-05, 4.23861093e-06, 9.04885411e-01,\n",
       "        4.16613220e-05, 9.49646607e-02],\n",
       "       [1.04717351e-01, 2.01205141e-03, 6.09296739e-01, 7.39218295e-03,\n",
       "        1.08626019e-02, 7.22395926e-05, 2.56711811e-01, 9.10753079e-06,\n",
       "        8.61222390e-03, 3.13766795e-04],\n",
       "       [5.57612977e-04, 9.99144197e-01, 1.45127133e-05, 1.77328067e-04,\n",
       "        2.02502360e-05, 1.46648918e-05, 6.57076889e-05, 9.17933463e-09,\n",
       "        5.72174213e-06, 1.59449112e-08],\n",
       "       [2.53713736e-03, 5.04995114e-07, 7.69113421e-01, 1.55941263e-04,\n",
       "        3.78260873e-02, 5.64567245e-06, 1.90278351e-01, 9.57410595e-09,\n",
       "        7.13676855e-05, 1.15708963e-05],\n",
       "       [2.37677041e-02, 5.25604228e-05, 3.49855185e-01, 2.80359294e-02,\n",
       "        7.19796307e-03, 5.69435815e-06, 5.90513885e-01, 1.99947203e-06,\n",
       "        5.48308832e-04, 2.07096582e-05],\n",
       "       [1.43425493e-03, 7.24378708e-07, 4.14964603e-03, 3.83397719e-06,\n",
       "        9.39305007e-01, 1.20216148e-08, 5.51058650e-02, 6.16143581e-10,\n",
       "        4.55237412e-08, 7.36460606e-07],\n",
       "       [8.69921467e-04, 3.21531616e-06, 1.34479910e-01, 6.24399108e-05,\n",
       "        4.21008617e-01, 1.87816513e-05, 4.43547219e-01, 6.38352518e-08,\n",
       "        8.36805975e-06, 1.47943820e-06],\n",
       "       [3.30045850e-06, 6.99980296e-10, 5.97083556e-07, 5.40477219e-09,\n",
       "        5.15779064e-09, 9.99994636e-01, 7.04392278e-09, 2.28923170e-07,\n",
       "        1.05779020e-06, 1.40963252e-07],\n",
       "       [1.83820911e-02, 4.63517154e-06, 3.10238363e-04, 1.72321347e-03,\n",
       "        8.07039396e-06, 2.49301820e-06, 1.59590822e-02, 1.43787418e-06,\n",
       "        9.63600218e-01, 8.59897136e-06],\n",
       "       [5.07369312e-03, 2.62175627e-06, 9.92376268e-01, 3.51681811e-04,\n",
       "        1.84651848e-03, 2.31793550e-07, 1.86014135e-04, 1.33402153e-07,\n",
       "        1.62719516e-04, 2.32935008e-07],\n",
       "       [1.46948338e-01, 7.40866124e-09, 7.97819555e-01, 1.62991819e-05,\n",
       "        5.22694609e-05, 4.68193306e-09, 5.51633202e-02, 3.53610127e-11,\n",
       "        2.32939186e-07, 6.74462370e-08],\n",
       "       [4.79697883e-06, 7.97814437e-08, 6.18473280e-07, 4.20581188e-07,\n",
       "        1.99435544e-08, 1.15128749e-07, 6.98942085e-06, 8.65988284e-07,\n",
       "        9.99984741e-01, 1.36730830e-06],\n",
       "       [4.56922498e-05, 4.79377093e-07, 1.14249927e-03, 3.38380733e-06,\n",
       "        2.38606140e-01, 3.24093250e-08, 7.60201395e-01, 5.80457626e-10,\n",
       "        2.48353871e-07, 9.98379264e-08],\n",
       "       [1.74751185e-05, 1.85101978e-09, 1.00174837e-07, 3.49493575e-07,\n",
       "        9.58474367e-09, 1.00002993e-08, 1.11964080e-04, 1.00243454e-07,\n",
       "        9.99869823e-01, 1.22883421e-07],\n",
       "       [9.96662498e-01, 4.17119246e-08, 5.31568912e-05, 3.72908676e-06,\n",
       "        5.46747333e-06, 1.84313353e-09, 3.27483588e-03, 2.68156275e-10,\n",
       "        1.87546647e-07, 1.76137647e-08],\n",
       "       [3.02090211e-05, 1.66648988e-08, 4.93997459e-06, 3.12915404e-06,\n",
       "        4.48061382e-06, 1.26838189e-04, 3.79532571e-06, 9.98483479e-01,\n",
       "        2.30980258e-05, 1.32009457e-03],\n",
       "       [6.04805828e-05, 8.29644176e-09, 9.68620498e-07, 9.47560352e-07,\n",
       "        7.13272527e-07, 7.19929207e-03, 2.68102531e-06, 9.73076820e-01,\n",
       "        3.79557496e-05, 1.96201801e-02],\n",
       "       [2.47581625e-07, 5.74062631e-10, 2.17491834e-06, 1.42230254e-08,\n",
       "        1.47614241e-08, 1.66174292e-08, 2.38159945e-08, 5.34817445e-06,\n",
       "        9.99991894e-01, 2.96048682e-07],\n",
       "       [1.65152858e-06, 2.82938117e-10, 4.90370041e-07, 2.97917708e-08,\n",
       "        1.98092076e-09, 9.99652147e-01, 1.71074515e-08, 1.71972331e-07,\n",
       "        3.45281092e-04, 1.14788797e-07],\n",
       "       [1.31503583e-07, 9.99999881e-01, 4.86243046e-09, 1.33802795e-11,\n",
       "        1.52418345e-08, 1.07340276e-10, 2.22552021e-09, 1.51641056e-14,\n",
       "        1.36597018e-11, 1.64856786e-14],\n",
       "       [5.21278207e-06, 9.99884844e-01, 1.59337537e-06, 1.43877571e-06,\n",
       "        2.25090298e-05, 3.29382203e-07, 8.39067216e-05, 2.13735731e-08,\n",
       "        6.61476420e-08, 6.09248119e-08],\n",
       "       [9.33450088e-02, 1.50575046e-03, 2.67139852e-01, 2.70521373e-01,\n",
       "        1.81312319e-02, 4.73042164e-04, 3.41848433e-01, 5.51724588e-05,\n",
       "        5.97080681e-03, 1.00925099e-03],\n",
       "       [4.05641505e-03, 3.04026180e-05, 1.45114819e-02, 7.78606236e-01,\n",
       "        1.86791778e-01, 4.55152476e-05, 1.55388499e-02, 1.82301374e-05,\n",
       "        3.44841246e-04, 5.62465611e-05],\n",
       "       [3.03719789e-05, 3.59522967e-09, 7.74729597e-06, 3.92597576e-05,\n",
       "        5.28302644e-06, 4.92630352e-04, 4.20931656e-06, 9.30000663e-01,\n",
       "        1.02696204e-05, 6.94095194e-02],\n",
       "       [5.59475621e-09, 3.75786451e-11, 3.88298727e-09, 7.46110729e-09,\n",
       "        2.49564119e-10, 9.34204211e-13, 6.45091702e-10, 1.89759822e-11,\n",
       "        1.00000000e+00, 1.24267246e-11],\n",
       "       [1.07983788e-05, 2.71861005e-08, 1.56141209e-06, 8.64934179e-07,\n",
       "        7.43422333e-07, 2.35871924e-03, 5.15214288e-06, 9.96495545e-01,\n",
       "        5.06804172e-05, 1.07593951e-03],\n",
       "       [9.91319716e-01, 3.96886236e-07, 3.20436171e-04, 9.16247445e-05,\n",
       "        5.25787163e-06, 2.66091661e-07, 8.25943705e-03, 2.01261408e-08,\n",
       "        1.92780067e-06, 1.10791837e-06],\n",
       "       [3.18720527e-02, 2.03517175e-07, 9.60305870e-01, 1.87534606e-05,\n",
       "        2.83324935e-05, 4.32764402e-09, 7.77143985e-03, 2.79500978e-10,\n",
       "        3.25379119e-06, 1.62690341e-07],\n",
       "       [3.02058488e-01, 7.82830029e-05, 1.10384800e-01, 2.95235217e-03,\n",
       "        5.27132128e-04, 1.11306406e-06, 5.81571341e-01, 8.57904013e-07,\n",
       "        2.42493488e-03, 6.82468340e-07],\n",
       "       [2.12930655e-03, 3.11886595e-07, 8.39735448e-01, 4.37971757e-05,\n",
       "        1.57301903e-01, 2.64536091e-08, 7.85095675e-04, 4.21656354e-09,\n",
       "        3.78060213e-06, 2.66971853e-07],\n",
       "       [1.07363351e-02, 1.82103436e-03, 7.88947291e-05, 9.49144125e-01,\n",
       "        1.57285971e-03, 7.26751168e-05, 3.64435986e-02, 2.09972295e-05,\n",
       "        3.64678344e-05, 7.29638778e-05],\n",
       "       [2.72491523e-08, 1.00000000e+00, 2.50519538e-09, 1.30998276e-11,\n",
       "        4.63847183e-09, 2.14640972e-10, 5.35320543e-09, 1.75006263e-13,\n",
       "        4.69219325e-12, 4.39876508e-14],\n",
       "       [5.18509187e-04, 1.41551237e-09, 9.92488623e-01, 2.14021739e-07,\n",
       "        1.62014039e-03, 7.16694371e-10, 5.37240552e-03, 8.23635778e-12,\n",
       "        1.59099670e-07, 5.26359134e-09],\n",
       "       [7.17032844e-06, 2.68256571e-07, 1.05998879e-07, 7.30462730e-08,\n",
       "        1.27335733e-08, 8.32079991e-07, 6.09807830e-06, 1.26650161e-06,\n",
       "        9.99977112e-01, 7.04565036e-06],\n",
       "       [1.34003742e-04, 1.41222881e-05, 2.56947009e-03, 2.09501395e-05,\n",
       "        9.72604394e-01, 4.82590359e-08, 2.46455222e-02, 1.52090848e-07,\n",
       "        6.31305329e-06, 5.08569747e-06],\n",
       "       [5.97346698e-05, 9.99290109e-01, 3.46867673e-05, 3.33003754e-07,\n",
       "        4.36569127e-04, 3.79358426e-06, 1.73804889e-04, 5.52289166e-08,\n",
       "        9.36377489e-07, 3.15624815e-09],\n",
       "       [9.52899995e-07, 3.95195299e-09, 2.47943195e-08, 6.12609654e-07,\n",
       "        3.63299080e-08, 8.82594865e-12, 1.44532507e-07, 1.20339214e-08,\n",
       "        9.99998331e-01, 1.88100362e-08],\n",
       "       [1.81434770e-10, 7.40482471e-15, 2.28525796e-10, 4.07083628e-14,\n",
       "        4.84862462e-14, 9.99999285e-01, 9.39260301e-12, 1.43264014e-08,\n",
       "        2.48515050e-07, 4.38916857e-07],\n",
       "       [1.69938147e-07, 5.07386744e-10, 8.17574453e-09, 4.73695252e-08,\n",
       "        3.62442187e-10, 2.11060342e-06, 8.93855429e-07, 3.41082737e-03,\n",
       "        6.58833812e-07, 9.96585131e-01],\n",
       "       [1.75027296e-07, 3.17838269e-12, 1.10128981e-08, 1.43753587e-09,\n",
       "        1.39643019e-10, 9.99958873e-01, 9.50519330e-10, 2.73942675e-07,\n",
       "        4.05936298e-05, 1.25565165e-07],\n",
       "       [9.96568799e-01, 2.87703035e-08, 3.27674468e-04, 2.13220701e-05,\n",
       "        1.36527105e-05, 6.67077948e-09, 3.06834653e-03, 9.19318163e-11,\n",
       "        1.02876257e-07, 3.16978976e-08],\n",
       "       [1.74858049e-01, 7.84631353e-03, 3.80766316e-04, 8.12030792e-01,\n",
       "        5.94696670e-04, 7.22711920e-05, 3.97212431e-03, 9.27758151e-07,\n",
       "        2.22891322e-04, 2.10424259e-05],\n",
       "       [1.55943089e-05, 5.34429878e-09, 9.99851227e-01, 1.04733033e-06,\n",
       "        1.19613345e-04, 1.92554098e-11, 1.22945612e-05, 8.32899548e-12,\n",
       "        1.90886965e-07, 3.47929213e-10],\n",
       "       [9.97741461e-01, 4.31504965e-09, 2.57016392e-04, 4.00494100e-05,\n",
       "        8.93713832e-07, 1.65991054e-09, 1.96033297e-03, 6.16726253e-11,\n",
       "        6.70758524e-08, 8.99992525e-09],\n",
       "       [8.97134319e-02, 1.69965404e-07, 4.13380086e-01, 5.26264485e-04,\n",
       "        8.67839262e-04, 1.73014705e-08, 4.95506495e-01, 3.25657190e-09,\n",
       "        5.53003338e-06, 2.06854466e-07],\n",
       "       [1.83416518e-07, 2.55162336e-10, 4.86211471e-09, 8.27911961e-08,\n",
       "        5.97964700e-09, 9.99980688e-01, 1.32596716e-08, 9.23784955e-06,\n",
       "        5.67747247e-06, 4.17830415e-06],\n",
       "       [5.07014105e-03, 9.99783748e-04, 2.12878531e-05, 9.93007302e-01,\n",
       "        5.20177991e-06, 3.26857771e-05, 8.11015489e-04, 4.29018741e-07,\n",
       "        5.09568090e-05, 1.17243087e-06],\n",
       "       [3.84834572e-03, 3.44411859e-08, 8.08398351e-02, 6.99708544e-05,\n",
       "        1.51863778e-02, 3.26664473e-09, 9.00054157e-01, 1.35732914e-09,\n",
       "        8.95781795e-07, 3.76327478e-07],\n",
       "       [8.43046018e-06, 1.34902223e-09, 1.39932149e-06, 4.36152561e-07,\n",
       "        1.06277935e-06, 1.83056636e-05, 4.96506402e-07, 9.98598516e-01,\n",
       "        8.87510851e-06, 1.36241480e-03],\n",
       "       [1.13265487e-04, 9.99740899e-01, 6.56882321e-06, 8.92155804e-05,\n",
       "        2.87301336e-05, 1.79089602e-06, 1.87390888e-05, 4.74619855e-09,\n",
       "        7.19716297e-07, 1.28625359e-08],\n",
       "       [1.12119899e-03, 1.22589838e-09, 2.44540406e-05, 7.77227058e-07,\n",
       "        1.60479559e-07, 5.40709116e-05, 5.88629373e-05, 1.08202541e-04,\n",
       "        9.98629808e-01, 2.53888675e-06],\n",
       "       [9.38870072e-01, 1.46202888e-06, 6.45072199e-03, 4.10165609e-04,\n",
       "        1.98442012e-05, 3.48290826e-07, 5.41906208e-02, 2.01746417e-07,\n",
       "        5.55940678e-05, 9.79363335e-07],\n",
       "       [1.48136396e-05, 9.99944210e-01, 3.23071663e-06, 2.70704982e-06,\n",
       "        1.70093517e-05, 2.20596621e-06, 1.55640082e-05, 1.98254391e-08,\n",
       "        2.70287330e-08, 9.69689751e-08],\n",
       "       [1.27545381e-02, 5.08283410e-05, 9.14914608e-01, 3.09940893e-03,\n",
       "        3.95622775e-02, 2.75711182e-06, 1.00506274e-02, 1.54106510e-06,\n",
       "        1.95266623e-02, 3.66739514e-05],\n",
       "       [2.08774436e-04, 5.58024249e-09, 9.50648308e-01, 1.97599570e-06,\n",
       "        2.44324864e-03, 7.70407560e-09, 4.66974564e-02, 1.26444286e-10,\n",
       "        9.63167039e-08, 2.31288446e-08]], dtype=float32)"
      ]
     },
     "execution_count": 20,
     "metadata": {},
     "output_type": "execute_result"
    }
   ],
   "source": [
    "model.predict(test_images[:100])"
   ]
  },
  {
   "cell_type": "code",
   "execution_count": 22,
   "metadata": {
    "id": "9FGsHhv6JvDx"
   },
   "outputs": [
    {
     "ename": "ValueError",
     "evalue": "The layer sequential_3 has never been called and thus has no defined input.",
     "output_type": "error",
     "traceback": [
      "\u001b[1;31m---------------------------------------------------------------------------\u001b[0m",
      "\u001b[1;31mValueError\u001b[0m                                Traceback (most recent call last)",
      "Cell \u001b[1;32mIn[22], line 12\u001b[0m\n\u001b[0;32m      9\u001b[0m CONVOLUTION_NUMBER \u001b[38;5;241m=\u001b[39m \u001b[38;5;241m1\u001b[39m\n\u001b[0;32m     11\u001b[0m layer_outputs \u001b[38;5;241m=\u001b[39m [layer\u001b[38;5;241m.\u001b[39moutput \u001b[38;5;28;01mfor\u001b[39;00m layer \u001b[38;5;129;01min\u001b[39;00m model\u001b[38;5;241m.\u001b[39mlayers]\n\u001b[1;32m---> 12\u001b[0m activation_model \u001b[38;5;241m=\u001b[39m tf\u001b[38;5;241m.\u001b[39mkeras\u001b[38;5;241m.\u001b[39mmodels\u001b[38;5;241m.\u001b[39mModel(inputs \u001b[38;5;241m=\u001b[39m \u001b[43mmodel\u001b[49m\u001b[38;5;241;43m.\u001b[39;49m\u001b[43minput\u001b[49m, outputs \u001b[38;5;241m=\u001b[39m layer_outputs)\n\u001b[0;32m     14\u001b[0m \u001b[38;5;28;01mfor\u001b[39;00m x \u001b[38;5;129;01min\u001b[39;00m \u001b[38;5;28mrange\u001b[39m(\u001b[38;5;241m0\u001b[39m,\u001b[38;5;241m4\u001b[39m):\n\u001b[0;32m     15\u001b[0m   f1 \u001b[38;5;241m=\u001b[39m activation_model\u001b[38;5;241m.\u001b[39mpredict(test_images[FIRST_IMAGE]\u001b[38;5;241m.\u001b[39mreshape(\u001b[38;5;241m1\u001b[39m, \u001b[38;5;241m28\u001b[39m, \u001b[38;5;241m28\u001b[39m, \u001b[38;5;241m1\u001b[39m))[x]\n",
      "File \u001b[1;32mc:\\Users\\amoya\\AppData\\Local\\Programs\\Python\\Python310\\lib\\site-packages\\keras\\src\\ops\\operation.py:228\u001b[0m, in \u001b[0;36mOperation.input\u001b[1;34m(self)\u001b[0m\n\u001b[0;32m    218\u001b[0m \u001b[38;5;129m@property\u001b[39m\n\u001b[0;32m    219\u001b[0m \u001b[38;5;28;01mdef\u001b[39;00m \u001b[38;5;21minput\u001b[39m(\u001b[38;5;28mself\u001b[39m):\n\u001b[0;32m    220\u001b[0m \u001b[38;5;250m    \u001b[39m\u001b[38;5;124;03m\"\"\"Retrieves the input tensor(s) of a symbolic operation.\u001b[39;00m\n\u001b[0;32m    221\u001b[0m \n\u001b[0;32m    222\u001b[0m \u001b[38;5;124;03m    Only returns the tensor(s) corresponding to the *first time*\u001b[39;00m\n\u001b[1;32m   (...)\u001b[0m\n\u001b[0;32m    226\u001b[0m \u001b[38;5;124;03m        Input tensor or list of input tensors.\u001b[39;00m\n\u001b[0;32m    227\u001b[0m \u001b[38;5;124;03m    \"\"\"\u001b[39;00m\n\u001b[1;32m--> 228\u001b[0m     \u001b[38;5;28;01mreturn\u001b[39;00m \u001b[38;5;28;43mself\u001b[39;49m\u001b[38;5;241;43m.\u001b[39;49m\u001b[43m_get_node_attribute_at_index\u001b[49m\u001b[43m(\u001b[49m\u001b[38;5;241;43m0\u001b[39;49m\u001b[43m,\u001b[49m\u001b[43m \u001b[49m\u001b[38;5;124;43m\"\u001b[39;49m\u001b[38;5;124;43minput_tensors\u001b[39;49m\u001b[38;5;124;43m\"\u001b[39;49m\u001b[43m,\u001b[49m\u001b[43m \u001b[49m\u001b[38;5;124;43m\"\u001b[39;49m\u001b[38;5;124;43minput\u001b[39;49m\u001b[38;5;124;43m\"\u001b[39;49m\u001b[43m)\u001b[49m\n",
      "File \u001b[1;32mc:\\Users\\amoya\\AppData\\Local\\Programs\\Python\\Python310\\lib\\site-packages\\keras\\src\\ops\\operation.py:259\u001b[0m, in \u001b[0;36mOperation._get_node_attribute_at_index\u001b[1;34m(self, node_index, attr, attr_name)\u001b[0m\n\u001b[0;32m    243\u001b[0m \u001b[38;5;250m\u001b[39m\u001b[38;5;124;03m\"\"\"Private utility to retrieves an attribute (e.g. inputs) from a node.\u001b[39;00m\n\u001b[0;32m    244\u001b[0m \n\u001b[0;32m    245\u001b[0m \u001b[38;5;124;03mThis is used to implement the properties:\u001b[39;00m\n\u001b[1;32m   (...)\u001b[0m\n\u001b[0;32m    256\u001b[0m \u001b[38;5;124;03m    The operation's attribute `attr` at the node of index `node_index`.\u001b[39;00m\n\u001b[0;32m    257\u001b[0m \u001b[38;5;124;03m\"\"\"\u001b[39;00m\n\u001b[0;32m    258\u001b[0m \u001b[38;5;28;01mif\u001b[39;00m \u001b[38;5;129;01mnot\u001b[39;00m \u001b[38;5;28mself\u001b[39m\u001b[38;5;241m.\u001b[39m_inbound_nodes:\n\u001b[1;32m--> 259\u001b[0m     \u001b[38;5;28;01mraise\u001b[39;00m \u001b[38;5;167;01mValueError\u001b[39;00m(\n\u001b[0;32m    260\u001b[0m         \u001b[38;5;124mf\u001b[39m\u001b[38;5;124m\"\u001b[39m\u001b[38;5;124mThe layer \u001b[39m\u001b[38;5;132;01m{\u001b[39;00m\u001b[38;5;28mself\u001b[39m\u001b[38;5;241m.\u001b[39mname\u001b[38;5;132;01m}\u001b[39;00m\u001b[38;5;124m has never been called \u001b[39m\u001b[38;5;124m\"\u001b[39m\n\u001b[0;32m    261\u001b[0m         \u001b[38;5;124mf\u001b[39m\u001b[38;5;124m\"\u001b[39m\u001b[38;5;124mand thus has no defined \u001b[39m\u001b[38;5;132;01m{\u001b[39;00mattr_name\u001b[38;5;132;01m}\u001b[39;00m\u001b[38;5;124m.\u001b[39m\u001b[38;5;124m\"\u001b[39m\n\u001b[0;32m    262\u001b[0m     )\n\u001b[0;32m    263\u001b[0m \u001b[38;5;28;01mif\u001b[39;00m \u001b[38;5;129;01mnot\u001b[39;00m \u001b[38;5;28mlen\u001b[39m(\u001b[38;5;28mself\u001b[39m\u001b[38;5;241m.\u001b[39m_inbound_nodes) \u001b[38;5;241m>\u001b[39m node_index:\n\u001b[0;32m    264\u001b[0m     \u001b[38;5;28;01mraise\u001b[39;00m \u001b[38;5;167;01mValueError\u001b[39;00m(\n\u001b[0;32m    265\u001b[0m         \u001b[38;5;124mf\u001b[39m\u001b[38;5;124m\"\u001b[39m\u001b[38;5;124mAsked to get \u001b[39m\u001b[38;5;132;01m{\u001b[39;00mattr_name\u001b[38;5;132;01m}\u001b[39;00m\u001b[38;5;124m at node \u001b[39m\u001b[38;5;124m\"\u001b[39m\n\u001b[0;32m    266\u001b[0m         \u001b[38;5;124mf\u001b[39m\u001b[38;5;124m\"\u001b[39m\u001b[38;5;132;01m{\u001b[39;00mnode_index\u001b[38;5;132;01m}\u001b[39;00m\u001b[38;5;124m, but the operation has only \u001b[39m\u001b[38;5;124m\"\u001b[39m\n\u001b[0;32m    267\u001b[0m         \u001b[38;5;124mf\u001b[39m\u001b[38;5;124m\"\u001b[39m\u001b[38;5;132;01m{\u001b[39;00m\u001b[38;5;28mlen\u001b[39m(\u001b[38;5;28mself\u001b[39m\u001b[38;5;241m.\u001b[39m_inbound_nodes)\u001b[38;5;132;01m}\u001b[39;00m\u001b[38;5;124m inbound nodes.\u001b[39m\u001b[38;5;124m\"\u001b[39m\n\u001b[0;32m    268\u001b[0m     )\n",
      "\u001b[1;31mValueError\u001b[0m: The layer sequential_3 has never been called and thus has no defined input."
     ]
    },
    {
     "data": {
      "image/png": "[encoded data removed]",
      "text/plain": [
       "<Figure size 640x480 with 12 Axes>"
      ]
     },
     "metadata": {},
     "output_type": "display_data"
    }
   ],
   "source": [
    "import matplotlib.pyplot as plt\n",
    "from tensorflow.keras import models\n",
    "\n",
    "f, axarr = plt.subplots(3,4)\n",
    "\n",
    "FIRST_IMAGE=1\n",
    "SECOND_IMAGE=23\n",
    "THIRD_IMAGE=28\n",
    "CONVOLUTION_NUMBER = 1\n",
    "\n",
    "layer_outputs = [layer.output for layer in model.layers]\n",
    "activation_model = tf.keras.models.Model(inputs = model.input, outputs = layer_outputs)\n",
    "\n",
    "for x in range(0,4):\n",
    "  f1 = activation_model.predict(test_images[FIRST_IMAGE].reshape(1, 28, 28, 1))[x]\n",
    "  axarr[0,x].imshow(f1[0, : , :, CONVOLUTION_NUMBER], cmap='inferno')\n",
    "  axarr[0,x].grid(False)\n",
    "  \n",
    "  f2 = activation_model.predict(test_images[SECOND_IMAGE].reshape(1, 28, 28, 1))[x]\n",
    "  axarr[1,x].imshow(f2[0, : , :, CONVOLUTION_NUMBER], cmap='inferno')\n",
    "  axarr[1,x].grid(False)\n",
    "  \n",
    "  f3 = activation_model.predict(test_images[THIRD_IMAGE].reshape(1, 28, 28, 1))[x]\n",
    "  axarr[2,x].imshow(f3[0, : , :, CONVOLUTION_NUMBER], cmap='inferno')\n",
    "  axarr[2,x].grid(False)"
   ]
  },
  {
   "cell_type": "markdown",
   "metadata": {
    "id": "8KVPZqgHo5Ux"
   },
   "source": [
    "### EXERCISES\n",
    "\n",
    "1. Try editing the convolutions. Change the 32s to either 16 or 64. What impact will this have on accuracy and/or training time.\n",
    "\n",
    "2. Remove the final Convolution. What impact will this have on accuracy or training time?\n",
    "\n",
    "3. How about adding more Convolutions? What impact do you think this will have? Experiment with it.\n",
    "\n",
    "4. Remove all Convolutions but the first. What impact do you think this will have? Experiment with it. \n",
    "\n",
    "5. In the previous lesson you implemented a callback to check on the loss function and to cancel training once it hit a certain amount. See if you can implement that here."
   ]
  }
 ],
 "metadata": {
  "accelerator": "GPU",
  "colab": {
   "collapsed_sections": [],
   "name": "C1_W3_Lab_1_improving_accuracy_using_convolutions.ipynb",
   "private_outputs": true,
   "provenance": [
    {
     "file_id": "https://github.com/https-deeplearning-ai/tensorflow-1-public/blob/25_august_2021_fixes/C1/W3/ungraded_labs/C1_W3_Lab_1_improving_accuracy_using_convolutions.ipynb",
     "timestamp": 1638957936408
    }
   ],
   "toc_visible": true
  },
  "kernelspec": {
   "display_name": "Python 3",
   "language": "python",
   "name": "python3"
  },
  "language_info": {
   "codemirror_mode": {
    "name": "ipython",
    "version": 3
   },
   "file_extension": ".py",
   "mimetype": "text/x-python",
   "name": "python",
   "nbconvert_exporter": "python",
   "pygments_lexer": "ipython3",
   "version": "3.10.5"
  }
 },
 "nbformat": 4,
 "nbformat_minor": 1
}
